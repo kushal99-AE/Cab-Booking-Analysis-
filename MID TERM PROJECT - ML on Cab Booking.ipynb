{
 "cells": [
  {
   "cell_type": "markdown",
   "metadata": {},
   "source": [
    "# MID TERM PROJECT\n"
   ]
  },
  {
   "cell_type": "markdown",
   "metadata": {},
   "source": [
    "Back Ground:"
   ]
  },
  {
   "cell_type": "markdown",
   "metadata": {},
   "source": [
    "Cab booking system is the process where renting a cab is automated through an app \n",
    "throughout a city. Using this app, people can book a cab from one location to another location. \n",
    "Being a cab booking app company, exploiting the understanding of cab supply and demand \n",
    "could increase the efficiency of their service and enhance user experience by minimizing \n",
    "waiting time.\n",
    "Objective of this project is to combine historical usage pattern along with the open data sources \n",
    "like weather data to forecast cab booking demand in a city."
   ]
  },
  {
   "cell_type": "markdown",
   "metadata": {},
   "source": [
    "Process Flow:\n"
   ]
  },
  {
   "cell_type": "markdown",
   "metadata": {},
   "source": [
    "You will be provided with hourly renting data span of two years. Data is randomly divided into \n",
    "train and test set. You must predict the total count of cabs booked in each hour covered by the \n",
    "test set, using the information available prior to the booking period. You need to append the \n",
    "train_label dataset to train.csv as ‘Total_booking’ column."
   ]
  },
  {
   "cell_type": "markdown",
   "metadata": {},
   "source": [
    "Descriptions of the columns:"
   ]
  },
  {
   "cell_type": "raw",
   "metadata": {},
   "source": [
    "datetime - hourly date + timestamp \n",
    "season - spring, summer, autumn, winter\n",
    "holiday - whether the day is considered a holiday\n",
    "workingday - whether the day is neither a weekend nor holiday\n",
    "weather - Clear , Cloudy, Light Rain, Heavy temp - temperature in Celsius\n",
    "atemp - \"feels like\" temperature in Celsius\n",
    "humidity - relative humidity\n",
    "windspeed - wind speed\n",
    "Total_booking - number of total booking"
   ]
  },
  {
   "cell_type": "markdown",
   "metadata": {},
   "source": [
    "## Libraries"
   ]
  },
  {
   "cell_type": "code",
   "execution_count": 132,
   "metadata": {},
   "outputs": [],
   "source": [
    "#importing the required libraries\n",
    "import pandas as pd #loading the data\n",
    "import numpy as np \n",
    "import matplotlib.pyplot as plt #for plotting \n",
    "import seaborn as sns\n",
    "from sklearn.preprocessing import LabelEncoder, PolynomialFeatures #for preprocessing the data\n",
    "from sklearn.linear_model import LinearRegression #regression model\n",
    "from sklearn.model_selection import train_test_split #for splitting the dataset for score\n",
    "from sklearn.linear_model import LogisticRegression #regression model\n",
    "from sklearn.metrics import r2_score #score of regression model \n",
    "from sklearn.model_selection import GridSearchCV #Hyperparameter tuning \n",
    "from sklearn.ensemble import RandomForestRegressor,GradientBoostingRegressor #regression model\n",
    "from sklearn.tree import DecisionTreeRegressor\n",
    "from sklearn.svm import SVR\n",
    "import os\n",
    "import warnings\n",
    "warnings.filterwarnings(\"ignore\")\n"
   ]
  },
  {
   "cell_type": "markdown",
   "metadata": {},
   "source": [
    "## Loading the dataset"
   ]
  },
  {
   "cell_type": "code",
   "execution_count": 11,
   "metadata": {},
   "outputs": [],
   "source": [
    "os.chdir(r'G:\\CAREER\\EDUCATION\\POST GRADUATION\\AI & ML NIT WARANGAL PGP\\Subjects\\Mid term Project 1\\Dataset')\n",
    "train_data = pd.read_csv('train.csv')\n",
    "test_data = pd.read_csv('test.csv')\n",
    "train_label_data = pd.read_csv('train_label.csv')\n",
    "test_label_data = pd.read_csv('test_label.csv')\n"
   ]
  },
  {
   "cell_type": "markdown",
   "metadata": {},
   "source": [
    "## Description/Viewing of Data"
   ]
  },
  {
   "cell_type": "code",
   "execution_count": 13,
   "metadata": {},
   "outputs": [
    {
     "data": {
      "text/html": [
       "<div>\n",
       "<style scoped>\n",
       "    .dataframe tbody tr th:only-of-type {\n",
       "        vertical-align: middle;\n",
       "    }\n",
       "\n",
       "    .dataframe tbody tr th {\n",
       "        vertical-align: top;\n",
       "    }\n",
       "\n",
       "    .dataframe thead th {\n",
       "        text-align: right;\n",
       "    }\n",
       "</style>\n",
       "<table border=\"1\" class=\"dataframe\">\n",
       "  <thead>\n",
       "    <tr style=\"text-align: right;\">\n",
       "      <th></th>\n",
       "      <th>datetime</th>\n",
       "      <th>season</th>\n",
       "      <th>holiday</th>\n",
       "      <th>workingday</th>\n",
       "      <th>weather</th>\n",
       "      <th>temp</th>\n",
       "      <th>atemp</th>\n",
       "      <th>humidity</th>\n",
       "      <th>windspeed</th>\n",
       "    </tr>\n",
       "  </thead>\n",
       "  <tbody>\n",
       "    <tr>\n",
       "      <th>0</th>\n",
       "      <td>5/2/2012 19:00</td>\n",
       "      <td>Summer</td>\n",
       "      <td>0</td>\n",
       "      <td>1</td>\n",
       "      <td>Clear + Few clouds</td>\n",
       "      <td>22.14</td>\n",
       "      <td>25.760</td>\n",
       "      <td>77</td>\n",
       "      <td>16.9979</td>\n",
       "    </tr>\n",
       "    <tr>\n",
       "      <th>1</th>\n",
       "      <td>9/5/2012 4:00</td>\n",
       "      <td>Fall</td>\n",
       "      <td>0</td>\n",
       "      <td>1</td>\n",
       "      <td>Clear + Few clouds</td>\n",
       "      <td>28.70</td>\n",
       "      <td>33.335</td>\n",
       "      <td>79</td>\n",
       "      <td>19.0012</td>\n",
       "    </tr>\n",
       "    <tr>\n",
       "      <th>2</th>\n",
       "      <td>1/13/2011 9:00</td>\n",
       "      <td>Spring</td>\n",
       "      <td>0</td>\n",
       "      <td>1</td>\n",
       "      <td>Clear + Few clouds</td>\n",
       "      <td>5.74</td>\n",
       "      <td>6.060</td>\n",
       "      <td>50</td>\n",
       "      <td>22.0028</td>\n",
       "    </tr>\n",
       "    <tr>\n",
       "      <th>3</th>\n",
       "      <td>11/18/2011 16:00</td>\n",
       "      <td>Winter</td>\n",
       "      <td>0</td>\n",
       "      <td>1</td>\n",
       "      <td>Clear + Few clouds</td>\n",
       "      <td>13.94</td>\n",
       "      <td>16.665</td>\n",
       "      <td>29</td>\n",
       "      <td>8.9981</td>\n",
       "    </tr>\n",
       "    <tr>\n",
       "      <th>4</th>\n",
       "      <td>9/13/2011 13:00</td>\n",
       "      <td>Fall</td>\n",
       "      <td>0</td>\n",
       "      <td>1</td>\n",
       "      <td>Clear + Few clouds</td>\n",
       "      <td>30.34</td>\n",
       "      <td>33.335</td>\n",
       "      <td>51</td>\n",
       "      <td>19.0012</td>\n",
       "    </tr>\n",
       "  </tbody>\n",
       "</table>\n",
       "</div>"
      ],
      "text/plain": [
       "           datetime  season  holiday  workingday              weather   temp  \\\n",
       "0    5/2/2012 19:00  Summer        0           1   Clear + Few clouds  22.14   \n",
       "1     9/5/2012 4:00    Fall        0           1   Clear + Few clouds  28.70   \n",
       "2    1/13/2011 9:00  Spring        0           1   Clear + Few clouds   5.74   \n",
       "3  11/18/2011 16:00  Winter        0           1   Clear + Few clouds  13.94   \n",
       "4   9/13/2011 13:00    Fall        0           1   Clear + Few clouds  30.34   \n",
       "\n",
       "    atemp  humidity  windspeed  \n",
       "0  25.760        77    16.9979  \n",
       "1  33.335        79    19.0012  \n",
       "2   6.060        50    22.0028  \n",
       "3  16.665        29     8.9981  \n",
       "4  33.335        51    19.0012  "
      ]
     },
     "execution_count": 13,
     "metadata": {},
     "output_type": "execute_result"
    }
   ],
   "source": [
    "train_data.head() #returns first 5 rows of the dataset"
   ]
  },
  {
   "cell_type": "code",
   "execution_count": 18,
   "metadata": {},
   "outputs": [
    {
     "data": {
      "text/plain": [
       "(8708, 9)"
      ]
     },
     "execution_count": 18,
     "metadata": {},
     "output_type": "execute_result"
    }
   ],
   "source": [
    "#checking the length of the data\n",
    "train_data.shape"
   ]
  },
  {
   "cell_type": "markdown",
   "metadata": {},
   "source": [
    "There are 8708 rows and 9 features "
   ]
  },
  {
   "cell_type": "code",
   "execution_count": 15,
   "metadata": {},
   "outputs": [
    {
     "data": {
      "text/plain": [
       "datetime       object\n",
       "season         object\n",
       "holiday         int64\n",
       "workingday      int64\n",
       "weather        object\n",
       "temp          float64\n",
       "atemp         float64\n",
       "humidity        int64\n",
       "windspeed     float64\n",
       "dtype: object"
      ]
     },
     "execution_count": 15,
     "metadata": {},
     "output_type": "execute_result"
    }
   ],
   "source": [
    "train_data.dtypes #returns datatypes of data"
   ]
  },
  {
   "cell_type": "code",
   "execution_count": 17,
   "metadata": {},
   "outputs": [
    {
     "name": "stdout",
     "output_type": "stream",
     "text": [
      "Unique values of season are:  ['Summer' 'Fall' 'Spring' 'Winter']\n",
      "Unique values of weather are:  [' Clear + Few clouds' ' Light Snow, Light Rain' ' Mist + Cloudy '\n",
      " ' Heavy Rain + Thunderstorm ']\n"
     ]
    }
   ],
   "source": [
    "#Checking the Unique values of the columns \n",
    "season_unique_values = train_data['season'].unique()\n",
    "weather_unique_values = train_data['weather'].unique()\n",
    "print('Unique values of season are: ',season_unique_values)\n",
    "print('Unique values of weather are: ',weather_unique_values)"
   ]
  },
  {
   "cell_type": "code",
   "execution_count": 22,
   "metadata": {},
   "outputs": [
    {
     "data": {
      "text/html": [
       "<div>\n",
       "<style scoped>\n",
       "    .dataframe tbody tr th:only-of-type {\n",
       "        vertical-align: middle;\n",
       "    }\n",
       "\n",
       "    .dataframe tbody tr th {\n",
       "        vertical-align: top;\n",
       "    }\n",
       "\n",
       "    .dataframe thead th {\n",
       "        text-align: right;\n",
       "    }\n",
       "</style>\n",
       "<table border=\"1\" class=\"dataframe\">\n",
       "  <thead>\n",
       "    <tr style=\"text-align: right;\">\n",
       "      <th></th>\n",
       "      <th>holiday</th>\n",
       "      <th>workingday</th>\n",
       "      <th>temp</th>\n",
       "      <th>atemp</th>\n",
       "      <th>humidity</th>\n",
       "      <th>windspeed</th>\n",
       "    </tr>\n",
       "  </thead>\n",
       "  <tbody>\n",
       "    <tr>\n",
       "      <th>count</th>\n",
       "      <td>8708.000000</td>\n",
       "      <td>8708.000000</td>\n",
       "      <td>8708.000000</td>\n",
       "      <td>8708.000000</td>\n",
       "      <td>8708.000000</td>\n",
       "      <td>8708.000000</td>\n",
       "    </tr>\n",
       "    <tr>\n",
       "      <th>mean</th>\n",
       "      <td>0.028480</td>\n",
       "      <td>0.680294</td>\n",
       "      <td>20.243020</td>\n",
       "      <td>23.655552</td>\n",
       "      <td>61.649173</td>\n",
       "      <td>12.843891</td>\n",
       "    </tr>\n",
       "    <tr>\n",
       "      <th>std</th>\n",
       "      <td>0.166348</td>\n",
       "      <td>0.466389</td>\n",
       "      <td>7.813494</td>\n",
       "      <td>8.501107</td>\n",
       "      <td>19.199578</td>\n",
       "      <td>8.190314</td>\n",
       "    </tr>\n",
       "    <tr>\n",
       "      <th>min</th>\n",
       "      <td>0.000000</td>\n",
       "      <td>0.000000</td>\n",
       "      <td>0.820000</td>\n",
       "      <td>0.760000</td>\n",
       "      <td>0.000000</td>\n",
       "      <td>0.000000</td>\n",
       "    </tr>\n",
       "    <tr>\n",
       "      <th>25%</th>\n",
       "      <td>0.000000</td>\n",
       "      <td>0.000000</td>\n",
       "      <td>13.940000</td>\n",
       "      <td>16.665000</td>\n",
       "      <td>46.000000</td>\n",
       "      <td>7.001500</td>\n",
       "    </tr>\n",
       "    <tr>\n",
       "      <th>50%</th>\n",
       "      <td>0.000000</td>\n",
       "      <td>1.000000</td>\n",
       "      <td>20.500000</td>\n",
       "      <td>24.240000</td>\n",
       "      <td>61.000000</td>\n",
       "      <td>12.998000</td>\n",
       "    </tr>\n",
       "    <tr>\n",
       "      <th>75%</th>\n",
       "      <td>0.000000</td>\n",
       "      <td>1.000000</td>\n",
       "      <td>26.240000</td>\n",
       "      <td>31.060000</td>\n",
       "      <td>77.000000</td>\n",
       "      <td>16.997900</td>\n",
       "    </tr>\n",
       "    <tr>\n",
       "      <th>max</th>\n",
       "      <td>1.000000</td>\n",
       "      <td>1.000000</td>\n",
       "      <td>41.000000</td>\n",
       "      <td>45.455000</td>\n",
       "      <td>100.000000</td>\n",
       "      <td>56.996900</td>\n",
       "    </tr>\n",
       "  </tbody>\n",
       "</table>\n",
       "</div>"
      ],
      "text/plain": [
       "           holiday   workingday         temp        atemp     humidity  \\\n",
       "count  8708.000000  8708.000000  8708.000000  8708.000000  8708.000000   \n",
       "mean      0.028480     0.680294    20.243020    23.655552    61.649173   \n",
       "std       0.166348     0.466389     7.813494     8.501107    19.199578   \n",
       "min       0.000000     0.000000     0.820000     0.760000     0.000000   \n",
       "25%       0.000000     0.000000    13.940000    16.665000    46.000000   \n",
       "50%       0.000000     1.000000    20.500000    24.240000    61.000000   \n",
       "75%       0.000000     1.000000    26.240000    31.060000    77.000000   \n",
       "max       1.000000     1.000000    41.000000    45.455000   100.000000   \n",
       "\n",
       "         windspeed  \n",
       "count  8708.000000  \n",
       "mean     12.843891  \n",
       "std       8.190314  \n",
       "min       0.000000  \n",
       "25%       7.001500  \n",
       "50%      12.998000  \n",
       "75%      16.997900  \n",
       "max      56.996900  "
      ]
     },
     "execution_count": 22,
     "metadata": {},
     "output_type": "execute_result"
    }
   ],
   "source": [
    "#Description of Data\n",
    "train_data.describe()"
   ]
  },
  {
   "cell_type": "markdown",
   "metadata": {},
   "source": [
    "From the above values:\n",
    "- The holiday and workingday columns are ignored because they are encoded values \n",
    "- Temperature mean value is 20.24 C\n",
    "- atemp mean value is 23.65 C which is approximately 3 C higher than actual temperature. Here atemp \n",
    "  means real feeling of the temperature\n"
   ]
  },
  {
   "cell_type": "markdown",
   "metadata": {},
   "source": [
    "Similarly for testing dataset"
   ]
  },
  {
   "cell_type": "code",
   "execution_count": 19,
   "metadata": {},
   "outputs": [
    {
     "data": {
      "text/html": [
       "<div>\n",
       "<style scoped>\n",
       "    .dataframe tbody tr th:only-of-type {\n",
       "        vertical-align: middle;\n",
       "    }\n",
       "\n",
       "    .dataframe tbody tr th {\n",
       "        vertical-align: top;\n",
       "    }\n",
       "\n",
       "    .dataframe thead th {\n",
       "        text-align: right;\n",
       "    }\n",
       "</style>\n",
       "<table border=\"1\" class=\"dataframe\">\n",
       "  <thead>\n",
       "    <tr style=\"text-align: right;\">\n",
       "      <th></th>\n",
       "      <th>datetime</th>\n",
       "      <th>season</th>\n",
       "      <th>holiday</th>\n",
       "      <th>workingday</th>\n",
       "      <th>weather</th>\n",
       "      <th>temp</th>\n",
       "      <th>atemp</th>\n",
       "      <th>humidity</th>\n",
       "      <th>windspeed</th>\n",
       "    </tr>\n",
       "  </thead>\n",
       "  <tbody>\n",
       "    <tr>\n",
       "      <th>0</th>\n",
       "      <td>5/10/2012 11:00</td>\n",
       "      <td>Summer</td>\n",
       "      <td>0</td>\n",
       "      <td>1</td>\n",
       "      <td>Clear + Few clouds</td>\n",
       "      <td>21.32</td>\n",
       "      <td>25.000</td>\n",
       "      <td>48</td>\n",
       "      <td>35.0008</td>\n",
       "    </tr>\n",
       "    <tr>\n",
       "      <th>1</th>\n",
       "      <td>6/9/2012 7:00</td>\n",
       "      <td>Summer</td>\n",
       "      <td>0</td>\n",
       "      <td>0</td>\n",
       "      <td>Clear + Few clouds</td>\n",
       "      <td>23.78</td>\n",
       "      <td>27.275</td>\n",
       "      <td>64</td>\n",
       "      <td>7.0015</td>\n",
       "    </tr>\n",
       "    <tr>\n",
       "      <th>2</th>\n",
       "      <td>3/6/2011 20:00</td>\n",
       "      <td>Spring</td>\n",
       "      <td>0</td>\n",
       "      <td>0</td>\n",
       "      <td>Light Snow, Light Rain</td>\n",
       "      <td>11.48</td>\n",
       "      <td>12.120</td>\n",
       "      <td>100</td>\n",
       "      <td>27.9993</td>\n",
       "    </tr>\n",
       "    <tr>\n",
       "      <th>3</th>\n",
       "      <td>10/13/2011 11:00</td>\n",
       "      <td>Winter</td>\n",
       "      <td>0</td>\n",
       "      <td>1</td>\n",
       "      <td>Mist + Cloudy</td>\n",
       "      <td>25.42</td>\n",
       "      <td>28.790</td>\n",
       "      <td>83</td>\n",
       "      <td>0.0000</td>\n",
       "    </tr>\n",
       "    <tr>\n",
       "      <th>4</th>\n",
       "      <td>6/2/2012 12:00</td>\n",
       "      <td>Summer</td>\n",
       "      <td>0</td>\n",
       "      <td>0</td>\n",
       "      <td>Clear + Few clouds</td>\n",
       "      <td>25.42</td>\n",
       "      <td>31.060</td>\n",
       "      <td>43</td>\n",
       "      <td>23.9994</td>\n",
       "    </tr>\n",
       "  </tbody>\n",
       "</table>\n",
       "</div>"
      ],
      "text/plain": [
       "           datetime  season  holiday  workingday                  weather  \\\n",
       "0   5/10/2012 11:00  Summer        0           1       Clear + Few clouds   \n",
       "1     6/9/2012 7:00  Summer        0           0       Clear + Few clouds   \n",
       "2    3/6/2011 20:00  Spring        0           0   Light Snow, Light Rain   \n",
       "3  10/13/2011 11:00  Winter        0           1           Mist + Cloudy    \n",
       "4    6/2/2012 12:00  Summer        0           0       Clear + Few clouds   \n",
       "\n",
       "    temp   atemp  humidity  windspeed  \n",
       "0  21.32  25.000        48    35.0008  \n",
       "1  23.78  27.275        64     7.0015  \n",
       "2  11.48  12.120       100    27.9993  \n",
       "3  25.42  28.790        83     0.0000  \n",
       "4  25.42  31.060        43    23.9994  "
      ]
     },
     "execution_count": 19,
     "metadata": {},
     "output_type": "execute_result"
    }
   ],
   "source": [
    "test_data.head()"
   ]
  },
  {
   "cell_type": "code",
   "execution_count": 21,
   "metadata": {},
   "outputs": [
    {
     "data": {
      "text/plain": [
       "(2178, 9)"
      ]
     },
     "execution_count": 21,
     "metadata": {},
     "output_type": "execute_result"
    }
   ],
   "source": [
    "test_data.shape"
   ]
  },
  {
   "cell_type": "markdown",
   "metadata": {},
   "source": [
    "Similarly check the label data before joining it to main data"
   ]
  },
  {
   "cell_type": "code",
   "execution_count": 23,
   "metadata": {},
   "outputs": [
    {
     "data": {
      "text/html": [
       "<div>\n",
       "<style scoped>\n",
       "    .dataframe tbody tr th:only-of-type {\n",
       "        vertical-align: middle;\n",
       "    }\n",
       "\n",
       "    .dataframe tbody tr th {\n",
       "        vertical-align: top;\n",
       "    }\n",
       "\n",
       "    .dataframe thead th {\n",
       "        text-align: right;\n",
       "    }\n",
       "</style>\n",
       "<table border=\"1\" class=\"dataframe\">\n",
       "  <thead>\n",
       "    <tr style=\"text-align: right;\">\n",
       "      <th></th>\n",
       "      <th>504</th>\n",
       "    </tr>\n",
       "  </thead>\n",
       "  <tbody>\n",
       "    <tr>\n",
       "      <th>0</th>\n",
       "      <td>5</td>\n",
       "    </tr>\n",
       "    <tr>\n",
       "      <th>1</th>\n",
       "      <td>139</td>\n",
       "    </tr>\n",
       "    <tr>\n",
       "      <th>2</th>\n",
       "      <td>209</td>\n",
       "    </tr>\n",
       "    <tr>\n",
       "      <th>3</th>\n",
       "      <td>184</td>\n",
       "    </tr>\n",
       "    <tr>\n",
       "      <th>4</th>\n",
       "      <td>791</td>\n",
       "    </tr>\n",
       "  </tbody>\n",
       "</table>\n",
       "</div>"
      ],
      "text/plain": [
       "   504\n",
       "0    5\n",
       "1  139\n",
       "2  209\n",
       "3  184\n",
       "4  791"
      ]
     },
     "execution_count": 23,
     "metadata": {},
     "output_type": "execute_result"
    }
   ],
   "source": [
    "train_label_data.head()"
   ]
  },
  {
   "cell_type": "code",
   "execution_count": 24,
   "metadata": {},
   "outputs": [
    {
     "data": {
      "text/html": [
       "<div>\n",
       "<style scoped>\n",
       "    .dataframe tbody tr th:only-of-type {\n",
       "        vertical-align: middle;\n",
       "    }\n",
       "\n",
       "    .dataframe tbody tr th {\n",
       "        vertical-align: top;\n",
       "    }\n",
       "\n",
       "    .dataframe thead th {\n",
       "        text-align: right;\n",
       "    }\n",
       "</style>\n",
       "<table border=\"1\" class=\"dataframe\">\n",
       "  <thead>\n",
       "    <tr style=\"text-align: right;\">\n",
       "      <th></th>\n",
       "      <th>256</th>\n",
       "    </tr>\n",
       "  </thead>\n",
       "  <tbody>\n",
       "    <tr>\n",
       "      <th>0</th>\n",
       "      <td>87</td>\n",
       "    </tr>\n",
       "    <tr>\n",
       "      <th>1</th>\n",
       "      <td>11</td>\n",
       "    </tr>\n",
       "    <tr>\n",
       "      <th>2</th>\n",
       "      <td>84</td>\n",
       "    </tr>\n",
       "    <tr>\n",
       "      <th>3</th>\n",
       "      <td>668</td>\n",
       "    </tr>\n",
       "    <tr>\n",
       "      <th>4</th>\n",
       "      <td>53</td>\n",
       "    </tr>\n",
       "  </tbody>\n",
       "</table>\n",
       "</div>"
      ],
      "text/plain": [
       "   256\n",
       "0   87\n",
       "1   11\n",
       "2   84\n",
       "3  668\n",
       "4   53"
      ]
     },
     "execution_count": 24,
     "metadata": {},
     "output_type": "execute_result"
    }
   ],
   "source": [
    "test_label_data.head()"
   ]
  },
  {
   "cell_type": "markdown",
   "metadata": {},
   "source": [
    "We can see from the above two lines:\n",
    "- 504 is taken as column in train data\n",
    "- 256 is taken as column in test data\n",
    "- So these two values must be included in the dataset column 'Total_booking'"
   ]
  },
  {
   "cell_type": "markdown",
   "metadata": {},
   "source": [
    "## Merging the train and test label to train and test dataset"
   ]
  },
  {
   "cell_type": "code",
   "execution_count": 25,
   "metadata": {},
   "outputs": [],
   "source": [
    "#Adding the 504 & 256 to train and test \n",
    "train_list = [504] + list(train_label_data['504'])\n",
    "test_list = [256] + list(test_label_data['256'])"
   ]
  },
  {
   "cell_type": "code",
   "execution_count": 26,
   "metadata": {},
   "outputs": [],
   "source": [
    "#Appending the list to the train and test data\n",
    "train_data['total_booking'] = train_list\n",
    "test_data['total_booking'] = test_list"
   ]
  },
  {
   "cell_type": "code",
   "execution_count": 28,
   "metadata": {},
   "outputs": [
    {
     "data": {
      "text/html": [
       "<div>\n",
       "<style scoped>\n",
       "    .dataframe tbody tr th:only-of-type {\n",
       "        vertical-align: middle;\n",
       "    }\n",
       "\n",
       "    .dataframe tbody tr th {\n",
       "        vertical-align: top;\n",
       "    }\n",
       "\n",
       "    .dataframe thead th {\n",
       "        text-align: right;\n",
       "    }\n",
       "</style>\n",
       "<table border=\"1\" class=\"dataframe\">\n",
       "  <thead>\n",
       "    <tr style=\"text-align: right;\">\n",
       "      <th></th>\n",
       "      <th>datetime</th>\n",
       "      <th>season</th>\n",
       "      <th>holiday</th>\n",
       "      <th>workingday</th>\n",
       "      <th>weather</th>\n",
       "      <th>temp</th>\n",
       "      <th>atemp</th>\n",
       "      <th>humidity</th>\n",
       "      <th>windspeed</th>\n",
       "      <th>total_booking</th>\n",
       "    </tr>\n",
       "  </thead>\n",
       "  <tbody>\n",
       "    <tr>\n",
       "      <th>0</th>\n",
       "      <td>5/2/2012 19:00</td>\n",
       "      <td>Summer</td>\n",
       "      <td>0</td>\n",
       "      <td>1</td>\n",
       "      <td>Clear + Few clouds</td>\n",
       "      <td>22.14</td>\n",
       "      <td>25.760</td>\n",
       "      <td>77</td>\n",
       "      <td>16.9979</td>\n",
       "      <td>504</td>\n",
       "    </tr>\n",
       "    <tr>\n",
       "      <th>1</th>\n",
       "      <td>9/5/2012 4:00</td>\n",
       "      <td>Fall</td>\n",
       "      <td>0</td>\n",
       "      <td>1</td>\n",
       "      <td>Clear + Few clouds</td>\n",
       "      <td>28.70</td>\n",
       "      <td>33.335</td>\n",
       "      <td>79</td>\n",
       "      <td>19.0012</td>\n",
       "      <td>5</td>\n",
       "    </tr>\n",
       "    <tr>\n",
       "      <th>2</th>\n",
       "      <td>1/13/2011 9:00</td>\n",
       "      <td>Spring</td>\n",
       "      <td>0</td>\n",
       "      <td>1</td>\n",
       "      <td>Clear + Few clouds</td>\n",
       "      <td>5.74</td>\n",
       "      <td>6.060</td>\n",
       "      <td>50</td>\n",
       "      <td>22.0028</td>\n",
       "      <td>139</td>\n",
       "    </tr>\n",
       "    <tr>\n",
       "      <th>3</th>\n",
       "      <td>11/18/2011 16:00</td>\n",
       "      <td>Winter</td>\n",
       "      <td>0</td>\n",
       "      <td>1</td>\n",
       "      <td>Clear + Few clouds</td>\n",
       "      <td>13.94</td>\n",
       "      <td>16.665</td>\n",
       "      <td>29</td>\n",
       "      <td>8.9981</td>\n",
       "      <td>209</td>\n",
       "    </tr>\n",
       "    <tr>\n",
       "      <th>4</th>\n",
       "      <td>9/13/2011 13:00</td>\n",
       "      <td>Fall</td>\n",
       "      <td>0</td>\n",
       "      <td>1</td>\n",
       "      <td>Clear + Few clouds</td>\n",
       "      <td>30.34</td>\n",
       "      <td>33.335</td>\n",
       "      <td>51</td>\n",
       "      <td>19.0012</td>\n",
       "      <td>184</td>\n",
       "    </tr>\n",
       "  </tbody>\n",
       "</table>\n",
       "</div>"
      ],
      "text/plain": [
       "           datetime  season  holiday  workingday              weather   temp  \\\n",
       "0    5/2/2012 19:00  Summer        0           1   Clear + Few clouds  22.14   \n",
       "1     9/5/2012 4:00    Fall        0           1   Clear + Few clouds  28.70   \n",
       "2    1/13/2011 9:00  Spring        0           1   Clear + Few clouds   5.74   \n",
       "3  11/18/2011 16:00  Winter        0           1   Clear + Few clouds  13.94   \n",
       "4   9/13/2011 13:00    Fall        0           1   Clear + Few clouds  30.34   \n",
       "\n",
       "    atemp  humidity  windspeed  total_booking  \n",
       "0  25.760        77    16.9979            504  \n",
       "1  33.335        79    19.0012              5  \n",
       "2   6.060        50    22.0028            139  \n",
       "3  16.665        29     8.9981            209  \n",
       "4  33.335        51    19.0012            184  "
      ]
     },
     "execution_count": 28,
     "metadata": {},
     "output_type": "execute_result"
    }
   ],
   "source": [
    "#checking the above operation\n",
    "train_data.head()\n"
   ]
  },
  {
   "cell_type": "code",
   "execution_count": 29,
   "metadata": {},
   "outputs": [
    {
     "data": {
      "text/html": [
       "<div>\n",
       "<style scoped>\n",
       "    .dataframe tbody tr th:only-of-type {\n",
       "        vertical-align: middle;\n",
       "    }\n",
       "\n",
       "    .dataframe tbody tr th {\n",
       "        vertical-align: top;\n",
       "    }\n",
       "\n",
       "    .dataframe thead th {\n",
       "        text-align: right;\n",
       "    }\n",
       "</style>\n",
       "<table border=\"1\" class=\"dataframe\">\n",
       "  <thead>\n",
       "    <tr style=\"text-align: right;\">\n",
       "      <th></th>\n",
       "      <th>datetime</th>\n",
       "      <th>season</th>\n",
       "      <th>holiday</th>\n",
       "      <th>workingday</th>\n",
       "      <th>weather</th>\n",
       "      <th>temp</th>\n",
       "      <th>atemp</th>\n",
       "      <th>humidity</th>\n",
       "      <th>windspeed</th>\n",
       "      <th>total_booking</th>\n",
       "    </tr>\n",
       "  </thead>\n",
       "  <tbody>\n",
       "    <tr>\n",
       "      <th>0</th>\n",
       "      <td>5/10/2012 11:00</td>\n",
       "      <td>Summer</td>\n",
       "      <td>0</td>\n",
       "      <td>1</td>\n",
       "      <td>Clear + Few clouds</td>\n",
       "      <td>21.32</td>\n",
       "      <td>25.000</td>\n",
       "      <td>48</td>\n",
       "      <td>35.0008</td>\n",
       "      <td>256</td>\n",
       "    </tr>\n",
       "    <tr>\n",
       "      <th>1</th>\n",
       "      <td>6/9/2012 7:00</td>\n",
       "      <td>Summer</td>\n",
       "      <td>0</td>\n",
       "      <td>0</td>\n",
       "      <td>Clear + Few clouds</td>\n",
       "      <td>23.78</td>\n",
       "      <td>27.275</td>\n",
       "      <td>64</td>\n",
       "      <td>7.0015</td>\n",
       "      <td>87</td>\n",
       "    </tr>\n",
       "    <tr>\n",
       "      <th>2</th>\n",
       "      <td>3/6/2011 20:00</td>\n",
       "      <td>Spring</td>\n",
       "      <td>0</td>\n",
       "      <td>0</td>\n",
       "      <td>Light Snow, Light Rain</td>\n",
       "      <td>11.48</td>\n",
       "      <td>12.120</td>\n",
       "      <td>100</td>\n",
       "      <td>27.9993</td>\n",
       "      <td>11</td>\n",
       "    </tr>\n",
       "    <tr>\n",
       "      <th>3</th>\n",
       "      <td>10/13/2011 11:00</td>\n",
       "      <td>Winter</td>\n",
       "      <td>0</td>\n",
       "      <td>1</td>\n",
       "      <td>Mist + Cloudy</td>\n",
       "      <td>25.42</td>\n",
       "      <td>28.790</td>\n",
       "      <td>83</td>\n",
       "      <td>0.0000</td>\n",
       "      <td>84</td>\n",
       "    </tr>\n",
       "    <tr>\n",
       "      <th>4</th>\n",
       "      <td>6/2/2012 12:00</td>\n",
       "      <td>Summer</td>\n",
       "      <td>0</td>\n",
       "      <td>0</td>\n",
       "      <td>Clear + Few clouds</td>\n",
       "      <td>25.42</td>\n",
       "      <td>31.060</td>\n",
       "      <td>43</td>\n",
       "      <td>23.9994</td>\n",
       "      <td>668</td>\n",
       "    </tr>\n",
       "  </tbody>\n",
       "</table>\n",
       "</div>"
      ],
      "text/plain": [
       "           datetime  season  holiday  workingday                  weather  \\\n",
       "0   5/10/2012 11:00  Summer        0           1       Clear + Few clouds   \n",
       "1     6/9/2012 7:00  Summer        0           0       Clear + Few clouds   \n",
       "2    3/6/2011 20:00  Spring        0           0   Light Snow, Light Rain   \n",
       "3  10/13/2011 11:00  Winter        0           1           Mist + Cloudy    \n",
       "4    6/2/2012 12:00  Summer        0           0       Clear + Few clouds   \n",
       "\n",
       "    temp   atemp  humidity  windspeed  total_booking  \n",
       "0  21.32  25.000        48    35.0008            256  \n",
       "1  23.78  27.275        64     7.0015             87  \n",
       "2  11.48  12.120       100    27.9993             11  \n",
       "3  25.42  28.790        83     0.0000             84  \n",
       "4  25.42  31.060        43    23.9994            668  "
      ]
     },
     "execution_count": 29,
     "metadata": {},
     "output_type": "execute_result"
    }
   ],
   "source": [
    "test_data.head()"
   ]
  },
  {
   "cell_type": "markdown",
   "metadata": {},
   "source": [
    "## Preprocessing of data"
   ]
  },
  {
   "cell_type": "code",
   "execution_count": 32,
   "metadata": {},
   "outputs": [],
   "source": [
    "#Converting the datetime column to datetime format\n",
    "train_df = train_data.copy()\n",
    "train_df['datetime'] = pd.to_datetime(train_df['datetime'])\n",
    "test_df = test_data.copy()\n",
    "test_df['datetime'] = pd.to_datetime(test_df['datetime'])"
   ]
  },
  {
   "cell_type": "code",
   "execution_count": 33,
   "metadata": {},
   "outputs": [],
   "source": [
    "#Appending new columns of datetime to the data\n",
    "train_df['WeekDay'] = train_df['datetime'].apply(lambda x: x.strftime('%A'))\n",
    "train_df['Day'] = train_df['datetime'].apply(lambda x: x.strftime('%d'))\n",
    "train_df['Time'] = train_df['datetime'].apply(lambda x: x.strftime('%X'))\n",
    "train_df['Month'] = train_df['datetime'].apply(lambda x: x.strftime('%B'))\n",
    "train_df['Year'] = train_df['datetime'].apply(lambda x: x.strftime('%Y'))\n",
    "\n",
    "test_df['WeekDay'] = test_df['datetime'].apply(lambda x: x.strftime('%A'))\n",
    "test_df['Day'] = test_df['datetime'].apply(lambda x: x.strftime('%d'))\n",
    "test_df['Time'] = test_df['datetime'].apply(lambda x: x.strftime('%X'))\n",
    "test_df['Month'] = test_df['datetime'].apply(lambda x: x.strftime('%B'))\n",
    "test_df['Year'] = test_df['datetime'].apply(lambda x: x.strftime('%Y'))\n"
   ]
  },
  {
   "cell_type": "code",
   "execution_count": 34,
   "metadata": {},
   "outputs": [
    {
     "data": {
      "text/html": [
       "<div>\n",
       "<style scoped>\n",
       "    .dataframe tbody tr th:only-of-type {\n",
       "        vertical-align: middle;\n",
       "    }\n",
       "\n",
       "    .dataframe tbody tr th {\n",
       "        vertical-align: top;\n",
       "    }\n",
       "\n",
       "    .dataframe thead th {\n",
       "        text-align: right;\n",
       "    }\n",
       "</style>\n",
       "<table border=\"1\" class=\"dataframe\">\n",
       "  <thead>\n",
       "    <tr style=\"text-align: right;\">\n",
       "      <th></th>\n",
       "      <th>datetime</th>\n",
       "      <th>season</th>\n",
       "      <th>holiday</th>\n",
       "      <th>workingday</th>\n",
       "      <th>weather</th>\n",
       "      <th>temp</th>\n",
       "      <th>atemp</th>\n",
       "      <th>humidity</th>\n",
       "      <th>windspeed</th>\n",
       "      <th>total_booking</th>\n",
       "      <th>WeekDay</th>\n",
       "      <th>Day</th>\n",
       "      <th>Time</th>\n",
       "      <th>Month</th>\n",
       "      <th>Year</th>\n",
       "    </tr>\n",
       "  </thead>\n",
       "  <tbody>\n",
       "    <tr>\n",
       "      <th>0</th>\n",
       "      <td>2012-05-02 19:00:00</td>\n",
       "      <td>Summer</td>\n",
       "      <td>0</td>\n",
       "      <td>1</td>\n",
       "      <td>Clear + Few clouds</td>\n",
       "      <td>22.14</td>\n",
       "      <td>25.760</td>\n",
       "      <td>77</td>\n",
       "      <td>16.9979</td>\n",
       "      <td>504</td>\n",
       "      <td>Wednesday</td>\n",
       "      <td>02</td>\n",
       "      <td>19:00:00</td>\n",
       "      <td>May</td>\n",
       "      <td>2012</td>\n",
       "    </tr>\n",
       "    <tr>\n",
       "      <th>1</th>\n",
       "      <td>2012-09-05 04:00:00</td>\n",
       "      <td>Fall</td>\n",
       "      <td>0</td>\n",
       "      <td>1</td>\n",
       "      <td>Clear + Few clouds</td>\n",
       "      <td>28.70</td>\n",
       "      <td>33.335</td>\n",
       "      <td>79</td>\n",
       "      <td>19.0012</td>\n",
       "      <td>5</td>\n",
       "      <td>Wednesday</td>\n",
       "      <td>05</td>\n",
       "      <td>04:00:00</td>\n",
       "      <td>September</td>\n",
       "      <td>2012</td>\n",
       "    </tr>\n",
       "    <tr>\n",
       "      <th>2</th>\n",
       "      <td>2011-01-13 09:00:00</td>\n",
       "      <td>Spring</td>\n",
       "      <td>0</td>\n",
       "      <td>1</td>\n",
       "      <td>Clear + Few clouds</td>\n",
       "      <td>5.74</td>\n",
       "      <td>6.060</td>\n",
       "      <td>50</td>\n",
       "      <td>22.0028</td>\n",
       "      <td>139</td>\n",
       "      <td>Thursday</td>\n",
       "      <td>13</td>\n",
       "      <td>09:00:00</td>\n",
       "      <td>January</td>\n",
       "      <td>2011</td>\n",
       "    </tr>\n",
       "    <tr>\n",
       "      <th>3</th>\n",
       "      <td>2011-11-18 16:00:00</td>\n",
       "      <td>Winter</td>\n",
       "      <td>0</td>\n",
       "      <td>1</td>\n",
       "      <td>Clear + Few clouds</td>\n",
       "      <td>13.94</td>\n",
       "      <td>16.665</td>\n",
       "      <td>29</td>\n",
       "      <td>8.9981</td>\n",
       "      <td>209</td>\n",
       "      <td>Friday</td>\n",
       "      <td>18</td>\n",
       "      <td>16:00:00</td>\n",
       "      <td>November</td>\n",
       "      <td>2011</td>\n",
       "    </tr>\n",
       "    <tr>\n",
       "      <th>4</th>\n",
       "      <td>2011-09-13 13:00:00</td>\n",
       "      <td>Fall</td>\n",
       "      <td>0</td>\n",
       "      <td>1</td>\n",
       "      <td>Clear + Few clouds</td>\n",
       "      <td>30.34</td>\n",
       "      <td>33.335</td>\n",
       "      <td>51</td>\n",
       "      <td>19.0012</td>\n",
       "      <td>184</td>\n",
       "      <td>Tuesday</td>\n",
       "      <td>13</td>\n",
       "      <td>13:00:00</td>\n",
       "      <td>September</td>\n",
       "      <td>2011</td>\n",
       "    </tr>\n",
       "  </tbody>\n",
       "</table>\n",
       "</div>"
      ],
      "text/plain": [
       "             datetime  season  holiday  workingday              weather  \\\n",
       "0 2012-05-02 19:00:00  Summer        0           1   Clear + Few clouds   \n",
       "1 2012-09-05 04:00:00    Fall        0           1   Clear + Few clouds   \n",
       "2 2011-01-13 09:00:00  Spring        0           1   Clear + Few clouds   \n",
       "3 2011-11-18 16:00:00  Winter        0           1   Clear + Few clouds   \n",
       "4 2011-09-13 13:00:00    Fall        0           1   Clear + Few clouds   \n",
       "\n",
       "    temp   atemp  humidity  windspeed  total_booking    WeekDay Day      Time  \\\n",
       "0  22.14  25.760        77    16.9979            504  Wednesday  02  19:00:00   \n",
       "1  28.70  33.335        79    19.0012              5  Wednesday  05  04:00:00   \n",
       "2   5.74   6.060        50    22.0028            139   Thursday  13  09:00:00   \n",
       "3  13.94  16.665        29     8.9981            209     Friday  18  16:00:00   \n",
       "4  30.34  33.335        51    19.0012            184    Tuesday  13  13:00:00   \n",
       "\n",
       "       Month  Year  \n",
       "0        May  2012  \n",
       "1  September  2012  \n",
       "2    January  2011  \n",
       "3   November  2011  \n",
       "4  September  2011  "
      ]
     },
     "execution_count": 34,
     "metadata": {},
     "output_type": "execute_result"
    }
   ],
   "source": [
    "train_df.head()"
   ]
  },
  {
   "cell_type": "markdown",
   "metadata": {},
   "source": [
    "Similarly for test data"
   ]
  },
  {
   "cell_type": "code",
   "execution_count": 35,
   "metadata": {},
   "outputs": [
    {
     "data": {
      "text/html": [
       "<div>\n",
       "<style scoped>\n",
       "    .dataframe tbody tr th:only-of-type {\n",
       "        vertical-align: middle;\n",
       "    }\n",
       "\n",
       "    .dataframe tbody tr th {\n",
       "        vertical-align: top;\n",
       "    }\n",
       "\n",
       "    .dataframe thead th {\n",
       "        text-align: right;\n",
       "    }\n",
       "</style>\n",
       "<table border=\"1\" class=\"dataframe\">\n",
       "  <thead>\n",
       "    <tr style=\"text-align: right;\">\n",
       "      <th></th>\n",
       "      <th>datetime</th>\n",
       "      <th>season</th>\n",
       "      <th>holiday</th>\n",
       "      <th>workingday</th>\n",
       "      <th>weather</th>\n",
       "      <th>temp</th>\n",
       "      <th>atemp</th>\n",
       "      <th>humidity</th>\n",
       "      <th>windspeed</th>\n",
       "      <th>total_booking</th>\n",
       "      <th>WeekDay</th>\n",
       "      <th>Day</th>\n",
       "      <th>Time</th>\n",
       "      <th>Month</th>\n",
       "      <th>Year</th>\n",
       "    </tr>\n",
       "  </thead>\n",
       "  <tbody>\n",
       "    <tr>\n",
       "      <th>0</th>\n",
       "      <td>2012-05-10 11:00:00</td>\n",
       "      <td>Summer</td>\n",
       "      <td>0</td>\n",
       "      <td>1</td>\n",
       "      <td>Clear + Few clouds</td>\n",
       "      <td>21.32</td>\n",
       "      <td>25.000</td>\n",
       "      <td>48</td>\n",
       "      <td>35.0008</td>\n",
       "      <td>256</td>\n",
       "      <td>Thursday</td>\n",
       "      <td>10</td>\n",
       "      <td>11:00:00</td>\n",
       "      <td>May</td>\n",
       "      <td>2012</td>\n",
       "    </tr>\n",
       "    <tr>\n",
       "      <th>1</th>\n",
       "      <td>2012-06-09 07:00:00</td>\n",
       "      <td>Summer</td>\n",
       "      <td>0</td>\n",
       "      <td>0</td>\n",
       "      <td>Clear + Few clouds</td>\n",
       "      <td>23.78</td>\n",
       "      <td>27.275</td>\n",
       "      <td>64</td>\n",
       "      <td>7.0015</td>\n",
       "      <td>87</td>\n",
       "      <td>Saturday</td>\n",
       "      <td>09</td>\n",
       "      <td>07:00:00</td>\n",
       "      <td>June</td>\n",
       "      <td>2012</td>\n",
       "    </tr>\n",
       "    <tr>\n",
       "      <th>2</th>\n",
       "      <td>2011-03-06 20:00:00</td>\n",
       "      <td>Spring</td>\n",
       "      <td>0</td>\n",
       "      <td>0</td>\n",
       "      <td>Light Snow, Light Rain</td>\n",
       "      <td>11.48</td>\n",
       "      <td>12.120</td>\n",
       "      <td>100</td>\n",
       "      <td>27.9993</td>\n",
       "      <td>11</td>\n",
       "      <td>Sunday</td>\n",
       "      <td>06</td>\n",
       "      <td>20:00:00</td>\n",
       "      <td>March</td>\n",
       "      <td>2011</td>\n",
       "    </tr>\n",
       "    <tr>\n",
       "      <th>3</th>\n",
       "      <td>2011-10-13 11:00:00</td>\n",
       "      <td>Winter</td>\n",
       "      <td>0</td>\n",
       "      <td>1</td>\n",
       "      <td>Mist + Cloudy</td>\n",
       "      <td>25.42</td>\n",
       "      <td>28.790</td>\n",
       "      <td>83</td>\n",
       "      <td>0.0000</td>\n",
       "      <td>84</td>\n",
       "      <td>Thursday</td>\n",
       "      <td>13</td>\n",
       "      <td>11:00:00</td>\n",
       "      <td>October</td>\n",
       "      <td>2011</td>\n",
       "    </tr>\n",
       "    <tr>\n",
       "      <th>4</th>\n",
       "      <td>2012-06-02 12:00:00</td>\n",
       "      <td>Summer</td>\n",
       "      <td>0</td>\n",
       "      <td>0</td>\n",
       "      <td>Clear + Few clouds</td>\n",
       "      <td>25.42</td>\n",
       "      <td>31.060</td>\n",
       "      <td>43</td>\n",
       "      <td>23.9994</td>\n",
       "      <td>668</td>\n",
       "      <td>Saturday</td>\n",
       "      <td>02</td>\n",
       "      <td>12:00:00</td>\n",
       "      <td>June</td>\n",
       "      <td>2012</td>\n",
       "    </tr>\n",
       "  </tbody>\n",
       "</table>\n",
       "</div>"
      ],
      "text/plain": [
       "             datetime  season  holiday  workingday                  weather  \\\n",
       "0 2012-05-10 11:00:00  Summer        0           1       Clear + Few clouds   \n",
       "1 2012-06-09 07:00:00  Summer        0           0       Clear + Few clouds   \n",
       "2 2011-03-06 20:00:00  Spring        0           0   Light Snow, Light Rain   \n",
       "3 2011-10-13 11:00:00  Winter        0           1           Mist + Cloudy    \n",
       "4 2012-06-02 12:00:00  Summer        0           0       Clear + Few clouds   \n",
       "\n",
       "    temp   atemp  humidity  windspeed  total_booking   WeekDay Day      Time  \\\n",
       "0  21.32  25.000        48    35.0008            256  Thursday  10  11:00:00   \n",
       "1  23.78  27.275        64     7.0015             87  Saturday  09  07:00:00   \n",
       "2  11.48  12.120       100    27.9993             11    Sunday  06  20:00:00   \n",
       "3  25.42  28.790        83     0.0000             84  Thursday  13  11:00:00   \n",
       "4  25.42  31.060        43    23.9994            668  Saturday  02  12:00:00   \n",
       "\n",
       "     Month  Year  \n",
       "0      May  2012  \n",
       "1     June  2012  \n",
       "2    March  2011  \n",
       "3  October  2011  \n",
       "4     June  2012  "
      ]
     },
     "execution_count": 35,
     "metadata": {},
     "output_type": "execute_result"
    }
   ],
   "source": [
    "test_df.head()"
   ]
  },
  {
   "cell_type": "markdown",
   "metadata": {},
   "source": [
    "## Visualizing the data"
   ]
  },
  {
   "cell_type": "markdown",
   "metadata": {},
   "source": [
    "#### Season vs Total Bookings"
   ]
  },
  {
   "cell_type": "code",
   "execution_count": 37,
   "metadata": {},
   "outputs": [
    {
     "data": {
      "text/plain": [
       "<matplotlib.axes._subplots.AxesSubplot at 0x1345d00b548>"
      ]
     },
     "execution_count": 37,
     "metadata": {},
     "output_type": "execute_result"
    },
    {
     "data": {
      "image/png": "[encoded data removed]",
      "text/plain": [
       "<Figure size 432x288 with 1 Axes>"
      ]
     },
     "metadata": {
      "needs_background": "light"
     },
     "output_type": "display_data"
    }
   ],
   "source": [
    "sns.barplot(data = train_df,x = 'season',y = 'total_booking')"
   ]
  },
  {
   "cell_type": "markdown",
   "metadata": {},
   "source": [
    "Data Analysis from the Season Vs graph:\n",
    "- From the above bar plot we can tell the maximum number of bookings is in Fall season.\n",
    "- Second Maximum number of bookings is in Summer season \n",
    "- We can say that maximum number of bookings is during Holidays\n",
    "- We can also say that during Fall season people tend to go to workplaces in cabs hence the booking     is high\n",
    "- We can ask the cab company to increase the number of cab services during Fall & Summer seasons"
   ]
  },
  {
   "cell_type": "markdown",
   "metadata": {},
   "source": [
    "#### Month Vs Total Bookings"
   ]
  },
  {
   "cell_type": "code",
   "execution_count": 40,
   "metadata": {},
   "outputs": [
    {
     "data": {
      "text/plain": [
       "<bound method Series.unique of 0             May\n",
       "1       September\n",
       "2         January\n",
       "3        November\n",
       "4       September\n",
       "          ...    \n",
       "8703      January\n",
       "8704     November\n",
       "8705        April\n",
       "8706     November\n",
       "8707      January\n",
       "Name: Month, Length: 8708, dtype: object>"
      ]
     },
     "execution_count": 40,
     "metadata": {},
     "output_type": "execute_result"
    }
   ],
   "source": [
    "#checking the unique months in the dataset\n",
    "train_df['Month'].unique"
   ]
  },
  {
   "cell_type": "code",
   "execution_count": 42,
   "metadata": {},
   "outputs": [],
   "source": [
    "le = LabelEncoder()\n",
    "month_df = train_df.copy()\n",
    "month_df['Month'] = month_df['datetime'].apply(lambda x: x.strftime('%m'))"
   ]
  },
  {
   "cell_type": "code",
   "execution_count": 43,
   "metadata": {},
   "outputs": [
    {
     "data": {
      "text/html": [
       "<div>\n",
       "<style scoped>\n",
       "    .dataframe tbody tr th:only-of-type {\n",
       "        vertical-align: middle;\n",
       "    }\n",
       "\n",
       "    .dataframe tbody tr th {\n",
       "        vertical-align: top;\n",
       "    }\n",
       "\n",
       "    .dataframe thead th {\n",
       "        text-align: right;\n",
       "    }\n",
       "</style>\n",
       "<table border=\"1\" class=\"dataframe\">\n",
       "  <thead>\n",
       "    <tr style=\"text-align: right;\">\n",
       "      <th></th>\n",
       "      <th>datetime</th>\n",
       "      <th>season</th>\n",
       "      <th>holiday</th>\n",
       "      <th>workingday</th>\n",
       "      <th>weather</th>\n",
       "      <th>temp</th>\n",
       "      <th>atemp</th>\n",
       "      <th>humidity</th>\n",
       "      <th>windspeed</th>\n",
       "      <th>total_booking</th>\n",
       "      <th>WeekDay</th>\n",
       "      <th>Day</th>\n",
       "      <th>Time</th>\n",
       "      <th>Month</th>\n",
       "      <th>Year</th>\n",
       "    </tr>\n",
       "  </thead>\n",
       "  <tbody>\n",
       "    <tr>\n",
       "      <th>0</th>\n",
       "      <td>2012-05-02 19:00:00</td>\n",
       "      <td>Summer</td>\n",
       "      <td>0</td>\n",
       "      <td>1</td>\n",
       "      <td>Clear + Few clouds</td>\n",
       "      <td>22.14</td>\n",
       "      <td>25.760</td>\n",
       "      <td>77</td>\n",
       "      <td>16.9979</td>\n",
       "      <td>504</td>\n",
       "      <td>Wednesday</td>\n",
       "      <td>02</td>\n",
       "      <td>19:00:00</td>\n",
       "      <td>05</td>\n",
       "      <td>2012</td>\n",
       "    </tr>\n",
       "    <tr>\n",
       "      <th>1</th>\n",
       "      <td>2012-09-05 04:00:00</td>\n",
       "      <td>Fall</td>\n",
       "      <td>0</td>\n",
       "      <td>1</td>\n",
       "      <td>Clear + Few clouds</td>\n",
       "      <td>28.70</td>\n",
       "      <td>33.335</td>\n",
       "      <td>79</td>\n",
       "      <td>19.0012</td>\n",
       "      <td>5</td>\n",
       "      <td>Wednesday</td>\n",
       "      <td>05</td>\n",
       "      <td>04:00:00</td>\n",
       "      <td>09</td>\n",
       "      <td>2012</td>\n",
       "    </tr>\n",
       "    <tr>\n",
       "      <th>2</th>\n",
       "      <td>2011-01-13 09:00:00</td>\n",
       "      <td>Spring</td>\n",
       "      <td>0</td>\n",
       "      <td>1</td>\n",
       "      <td>Clear + Few clouds</td>\n",
       "      <td>5.74</td>\n",
       "      <td>6.060</td>\n",
       "      <td>50</td>\n",
       "      <td>22.0028</td>\n",
       "      <td>139</td>\n",
       "      <td>Thursday</td>\n",
       "      <td>13</td>\n",
       "      <td>09:00:00</td>\n",
       "      <td>01</td>\n",
       "      <td>2011</td>\n",
       "    </tr>\n",
       "    <tr>\n",
       "      <th>3</th>\n",
       "      <td>2011-11-18 16:00:00</td>\n",
       "      <td>Winter</td>\n",
       "      <td>0</td>\n",
       "      <td>1</td>\n",
       "      <td>Clear + Few clouds</td>\n",
       "      <td>13.94</td>\n",
       "      <td>16.665</td>\n",
       "      <td>29</td>\n",
       "      <td>8.9981</td>\n",
       "      <td>209</td>\n",
       "      <td>Friday</td>\n",
       "      <td>18</td>\n",
       "      <td>16:00:00</td>\n",
       "      <td>11</td>\n",
       "      <td>2011</td>\n",
       "    </tr>\n",
       "    <tr>\n",
       "      <th>4</th>\n",
       "      <td>2011-09-13 13:00:00</td>\n",
       "      <td>Fall</td>\n",
       "      <td>0</td>\n",
       "      <td>1</td>\n",
       "      <td>Clear + Few clouds</td>\n",
       "      <td>30.34</td>\n",
       "      <td>33.335</td>\n",
       "      <td>51</td>\n",
       "      <td>19.0012</td>\n",
       "      <td>184</td>\n",
       "      <td>Tuesday</td>\n",
       "      <td>13</td>\n",
       "      <td>13:00:00</td>\n",
       "      <td>09</td>\n",
       "      <td>2011</td>\n",
       "    </tr>\n",
       "  </tbody>\n",
       "</table>\n",
       "</div>"
      ],
      "text/plain": [
       "             datetime  season  holiday  workingday              weather  \\\n",
       "0 2012-05-02 19:00:00  Summer        0           1   Clear + Few clouds   \n",
       "1 2012-09-05 04:00:00    Fall        0           1   Clear + Few clouds   \n",
       "2 2011-01-13 09:00:00  Spring        0           1   Clear + Few clouds   \n",
       "3 2011-11-18 16:00:00  Winter        0           1   Clear + Few clouds   \n",
       "4 2011-09-13 13:00:00    Fall        0           1   Clear + Few clouds   \n",
       "\n",
       "    temp   atemp  humidity  windspeed  total_booking    WeekDay Day      Time  \\\n",
       "0  22.14  25.760        77    16.9979            504  Wednesday  02  19:00:00   \n",
       "1  28.70  33.335        79    19.0012              5  Wednesday  05  04:00:00   \n",
       "2   5.74   6.060        50    22.0028            139   Thursday  13  09:00:00   \n",
       "3  13.94  16.665        29     8.9981            209     Friday  18  16:00:00   \n",
       "4  30.34  33.335        51    19.0012            184    Tuesday  13  13:00:00   \n",
       "\n",
       "  Month  Year  \n",
       "0    05  2012  \n",
       "1    09  2012  \n",
       "2    01  2011  \n",
       "3    11  2011  \n",
       "4    09  2011  "
      ]
     },
     "execution_count": 43,
     "metadata": {},
     "output_type": "execute_result"
    }
   ],
   "source": [
    "month_df.head()"
   ]
  },
  {
   "cell_type": "code",
   "execution_count": 45,
   "metadata": {},
   "outputs": [
    {
     "data": {
      "text/plain": [
       "Month\n",
       "01     63086\n",
       "02     77963\n",
       "03    108905\n",
       "04    132588\n",
       "05    161566\n",
       "06    178391\n",
       "07    174264\n",
       "08    172371\n",
       "09    172913\n",
       "10    166361\n",
       "11    141024\n",
       "12    131273\n",
       "Name: total_booking, dtype: int64"
      ]
     },
     "execution_count": 45,
     "metadata": {},
     "output_type": "execute_result"
    }
   ],
   "source": [
    "month_df.groupby(['Month']).sum()['total_booking']"
   ]
  },
  {
   "cell_type": "code",
   "execution_count": 46,
   "metadata": {},
   "outputs": [
    {
     "data": {
      "image/png": "[encoded data removed]",
      "text/plain": [
       "<Figure size 432x288 with 1 Axes>"
      ]
     },
     "metadata": {
      "needs_background": "light"
     },
     "output_type": "display_data"
    }
   ],
   "source": [
    "months = range(1,13)\n",
    "plt.bar(months,month_df.groupby(['Month']).sum()['total_booking'])\n",
    "plt.xticks(months)\n",
    "plt.ylabel('Total_Bookings')\n",
    "plt.xlabel('Month number')\n",
    "plt.show()"
   ]
  },
  {
   "cell_type": "markdown",
   "metadata": {},
   "source": [
    "Data Analysis from Month vs Total_Bookings:\n",
    "- June month has highest number of bookings\n",
    "- Least number of bookings is in January\n",
    "- From May to June the number of bookings are more or less same\n"
   ]
  },
  {
   "cell_type": "markdown",
   "metadata": {},
   "source": [
    "#### Working day Vs Non working day:"
   ]
  },
  {
   "cell_type": "code",
   "execution_count": 50,
   "metadata": {},
   "outputs": [],
   "source": [
    "workingday_df = train_df.copy()\n",
    "workingday_df = workingday_df.loc[(workingday_df['workingday'] == 1)]"
   ]
  },
  {
   "cell_type": "code",
   "execution_count": 51,
   "metadata": {},
   "outputs": [
    {
     "data": {
      "text/plain": [
       "1152431"
      ]
     },
     "execution_count": 51,
     "metadata": {},
     "output_type": "execute_result"
    }
   ],
   "source": [
    "workingday_df.sum()['total_booking']"
   ]
  },
  {
   "cell_type": "code",
   "execution_count": 53,
   "metadata": {},
   "outputs": [
    {
     "data": {
      "text/plain": [
       "528274"
      ]
     },
     "execution_count": 53,
     "metadata": {},
     "output_type": "execute_result"
    }
   ],
   "source": [
    "non_workingday_df = train_df.copy()\n",
    "non_workingday_df = non_workingday_df.loc[(non_workingday_df['workingday'] == 0)]\n",
    "non_workingday_df.sum()['total_booking']"
   ]
  },
  {
   "cell_type": "markdown",
   "metadata": {},
   "source": [
    "From the above data:\n",
    "- Number of bookings during working days is more than non working days\n",
    "- Majority of days in a year are working days so the number of bookings is more\n",
    "- This may be due to people travelling more morning and evening for office work"
   ]
  },
  {
   "cell_type": "markdown",
   "metadata": {},
   "source": [
    "#### Time of the day Vs Total Bookings"
   ]
  },
  {
   "cell_type": "code",
   "execution_count": 54,
   "metadata": {},
   "outputs": [],
   "source": [
    "time_of_day = train_df.sort_values(by = 'Time')"
   ]
  },
  {
   "cell_type": "code",
   "execution_count": 57,
   "metadata": {},
   "outputs": [
    {
     "data": {
      "text/plain": [
       "array(['00:00:00', '01:00:00', '02:00:00', '03:00:00', '04:00:00',\n",
       "       '05:00:00', '06:00:00', '07:00:00', '08:00:00', '09:00:00',\n",
       "       '10:00:00', '11:00:00', '12:00:00', '13:00:00', '14:00:00',\n",
       "       '15:00:00', '16:00:00', '17:00:00', '18:00:00', '19:00:00',\n",
       "       '20:00:00', '21:00:00', '22:00:00', '23:00:00'], dtype=object)"
      ]
     },
     "execution_count": 57,
     "metadata": {},
     "output_type": "execute_result"
    }
   ],
   "source": [
    "time_of_day['Time'].unique()"
   ]
  },
  {
   "cell_type": "code",
   "execution_count": 58,
   "metadata": {},
   "outputs": [
    {
     "data": {
      "text/plain": [
       "Time\n",
       "00:00:00     19673\n",
       "01:00:00     11975\n",
       "02:00:00      8361\n",
       "03:00:00      4153\n",
       "04:00:00      2208\n",
       "05:00:00      7052\n",
       "06:00:00     27368\n",
       "07:00:00     77764\n",
       "08:00:00    127856\n",
       "09:00:00     84036\n",
       "10:00:00     65696\n",
       "11:00:00     78187\n",
       "12:00:00     95434\n",
       "13:00:00     97915\n",
       "14:00:00     85972\n",
       "15:00:00     95438\n",
       "16:00:00    116942\n",
       "17:00:00    173281\n",
       "18:00:00    156788\n",
       "19:00:00    115587\n",
       "20:00:00     83121\n",
       "21:00:00     63007\n",
       "22:00:00     49585\n",
       "23:00:00     33306\n",
       "Name: total_booking, dtype: int64"
      ]
     },
     "execution_count": 58,
     "metadata": {},
     "output_type": "execute_result"
    }
   ],
   "source": [
    "time_of_day.groupby(['Time']).sum()['total_booking']\n"
   ]
  },
  {
   "cell_type": "code",
   "execution_count": 68,
   "metadata": {
    "scrolled": true
   },
   "outputs": [
    {
     "data": {
      "image/png": "[encoded data removed]",
      "text/plain": [
       "<Figure size 432x288 with 1 Axes>"
      ]
     },
     "metadata": {
      "needs_background": "light"
     },
     "output_type": "display_data"
    }
   ],
   "source": [
    "plt.bar(time_list,time_of_day.groupby(['Time']).sum()['total_booking'])\n",
    "plt.xticks(range(0,24))\n",
    "plt.ylabel('Total_Bookings')\n",
    "plt.xlabel('Time of the day')\n",
    "plt.show()"
   ]
  },
  {
   "cell_type": "markdown",
   "metadata": {},
   "source": [
    "Data Analysis from Time Vs Total Bookings:\n",
    "- Maximum bookings were durng 5 PM : It may be due to the people returning to home from office during that time. Also next maximum number of bookings were during 6PM\n",
    "- Also at 8AM we have good number of bookings of cab because people might commute to office around that time\n",
    "- We can ask cab company to increase the number of cabs during these period to have a better profit\n",
    "- Also from 12AM - 6PM we have less very negligable amount of bookings because it is sleeping time\n"
   ]
  },
  {
   "cell_type": "markdown",
   "metadata": {},
   "source": [
    "#### Weather Vs Total Bookings: "
   ]
  },
  {
   "cell_type": "code",
   "execution_count": 76,
   "metadata": {},
   "outputs": [
    {
     "data": {
      "image/png": "[encoded data removed]",
      "text/plain": [
       "<Figure size 2160x360 with 1 Axes>"
      ]
     },
     "metadata": {
      "needs_background": "light"
     },
     "output_type": "display_data"
    }
   ],
   "source": [
    "weather_df = train_df[['weather','total_booking']]\n",
    "sns.barplot(data = weather_df,x='weather',y='total_booking')\n",
    "plt.rcParams['figure.figsize'] = (30,5)"
   ]
  },
  {
   "cell_type": "markdown",
   "metadata": {},
   "source": [
    "Data Analysis from Weather Vs Total Bookings:\n",
    "- Number of bookings when it is Clear+Few Clouds is more \n",
    "- Next max number of bookings is when it is Mist+Cloudy\n",
    "- From the above two points - it might be because most of them don't go out when it is too cool or it is thundering + heavy rain "
   ]
  },
  {
   "cell_type": "markdown",
   "metadata": {},
   "source": [
    "#### Temperature Vs Total Bookings:\n",
    "    "
   ]
  },
  {
   "cell_type": "code",
   "execution_count": 85,
   "metadata": {},
   "outputs": [
    {
     "data": {
      "image/png": "[encoded data removed]",
      "text/plain": [
       "<Figure size 2160x720 with 1 Axes>"
      ]
     },
     "metadata": {
      "needs_background": "light"
     },
     "output_type": "display_data"
    }
   ],
   "source": [
    "y1 = train_df[train_df['temp'] <20 ].sum()['total_booking']\n",
    "y2 = train_df[(train_df['temp'] >= 20) & (train_df['temp'] <= 30)].sum()['total_booking']\n",
    "y3 = train_df[(train_df['temp'] >= 30) & (train_df['temp'] <= 40)].sum()['total_booking']\n",
    "y4 = [y1,y2,y3]\n",
    "x4 = ['0-20','20-30','30-40']\n",
    "plt.bar(x4,y4)\n",
    "plt.show()\n",
    "plt.rcParams['figure.figsize'] = (30,100)\n"
   ]
  },
  {
   "cell_type": "markdown",
   "metadata": {},
   "source": [
    "Data Analysis from the Temperature Vs Total Bookings:\n",
    "- Maximum number of bookings are during temperatures 20 - 30 : 20-30 is the most ideal temperature to go out it's neither to hot nor too cold\n",
    "- While it is 0-20: It is the next maximum number of bookings: Which means people tend to book cabs more than when it is hot i.e., 30-40"
   ]
  },
  {
   "cell_type": "markdown",
   "metadata": {},
   "source": [
    "## Outlier Analysis"
   ]
  },
  {
   "cell_type": "markdown",
   "metadata": {},
   "source": [
    "#### Before Outlier Treatment "
   ]
  },
  {
   "cell_type": "code",
   "execution_count": 89,
   "metadata": {},
   "outputs": [
    {
     "data": {
      "image/png": "[encoded data removed]",
      "text/plain": [
       "<Figure size 1440x360 with 1 Axes>"
      ]
     },
     "metadata": {
      "needs_background": "light"
     },
     "output_type": "display_data"
    }
   ],
   "source": [
    "plot_data = sns.boxplot(x = train_df['total_booking'])\n",
    "plt.rcParams['figure.figsize'] = (20,5)"
   ]
  },
  {
   "cell_type": "code",
   "execution_count": 90,
   "metadata": {},
   "outputs": [
    {
     "data": {
      "text/plain": [
       "<matplotlib.axes._subplots.AxesSubplot at 0x1346044ca48>"
      ]
     },
     "execution_count": 90,
     "metadata": {},
     "output_type": "execute_result"
    },
    {
     "data": {
      "image/png": "[encoded data removed]",
      "text/plain": [
       "<Figure size 1440x360 with 1 Axes>"
      ]
     },
     "metadata": {
      "needs_background": "light"
     },
     "output_type": "display_data"
    }
   ],
   "source": [
    "sns.boxplot(x = test_df['total_booking']) #for test data"
   ]
  },
  {
   "cell_type": "code",
   "execution_count": 91,
   "metadata": {},
   "outputs": [
    {
     "data": {
      "text/plain": [
       "<matplotlib.axes._subplots.AxesSubplot at 0x134607bda08>"
      ]
     },
     "execution_count": 91,
     "metadata": {},
     "output_type": "execute_result"
    },
    {
     "data": {
      "image/png": "[encoded data removed]",
      "text/plain": [
       "<Figure size 1440x360 with 1 Axes>"
      ]
     },
     "metadata": {
      "needs_background": "light"
     },
     "output_type": "display_data"
    }
   ],
   "source": [
    "#skewness is removed by cuberoot of the data\n",
    "sns.distplot(np.cbrt(train_df['total_booking']),bins=50)"
   ]
  },
  {
   "cell_type": "code",
   "execution_count": 94,
   "metadata": {},
   "outputs": [
    {
     "data": {
      "text/plain": [
       "<matplotlib.axes._subplots.AxesSubplot at 0x134603b15c8>"
      ]
     },
     "execution_count": 94,
     "metadata": {},
     "output_type": "execute_result"
    },
    {
     "data": {
      "image/png": "[encoded data removed]",
      "text/plain": [
       "<Figure size 1440x360 with 1 Axes>"
      ]
     },
     "metadata": {
      "needs_background": "light"
     },
     "output_type": "display_data"
    }
   ],
   "source": [
    "sns.distplot(np.cbrt(test_df['total_booking']),bins=50) #test data"
   ]
  },
  {
   "cell_type": "markdown",
   "metadata": {},
   "source": [
    "####  After Outlier Treatment "
   ]
  },
  {
   "cell_type": "code",
   "execution_count": 93,
   "metadata": {},
   "outputs": [
    {
     "data": {
      "image/png": "[encoded data removed]",
      "text/plain": [
       "<Figure size 1440x360 with 1 Axes>"
      ]
     },
     "metadata": {
      "needs_background": "light"
     },
     "output_type": "display_data"
    }
   ],
   "source": [
    "plot_data = sns.boxplot(x = np.cbrt(train_df['total_booking']))"
   ]
  },
  {
   "cell_type": "code",
   "execution_count": 95,
   "metadata": {},
   "outputs": [
    {
     "data": {
      "image/png": "[encoded data removed]",
      "text/plain": [
       "<Figure size 1440x360 with 1 Axes>"
      ]
     },
     "metadata": {
      "needs_background": "light"
     },
     "output_type": "display_data"
    }
   ],
   "source": [
    "plot_data = sns.boxplot(x = np.cbrt(test_df['total_booking']))"
   ]
  },
  {
   "cell_type": "markdown",
   "metadata": {},
   "source": [
    "From comparing the before and outlier treatment we can see that after outlier treatment all the outliers are removed "
   ]
  },
  {
   "cell_type": "code",
   "execution_count": 97,
   "metadata": {},
   "outputs": [],
   "source": [
    "#applying outlier treatment to data\n",
    "outlier_df = train_df.copy()\n",
    "outlier_df['total_booking'] = np.cbrt(outlier_df['total_booking'])\n",
    "#for test\n",
    "outlier_df_test = test_df.copy()\n",
    "outlier_df_test['total_booking'] = np.cbrt(outlier_df_test['total_booking'])"
   ]
  },
  {
   "cell_type": "markdown",
   "metadata": {},
   "source": [
    "## Missing Value Analysis"
   ]
  },
  {
   "cell_type": "code",
   "execution_count": 98,
   "metadata": {},
   "outputs": [
    {
     "data": {
      "text/plain": [
       "datetime         0\n",
       "season           0\n",
       "holiday          0\n",
       "workingday       0\n",
       "weather          0\n",
       "temp             0\n",
       "atemp            0\n",
       "humidity         0\n",
       "windspeed        0\n",
       "total_booking    0\n",
       "WeekDay          0\n",
       "Day              0\n",
       "Time             0\n",
       "Month            0\n",
       "Year             0\n",
       "dtype: int64"
      ]
     },
     "execution_count": 98,
     "metadata": {},
     "output_type": "execute_result"
    }
   ],
   "source": [
    "outlier_df.isnull().sum()"
   ]
  },
  {
   "cell_type": "code",
   "execution_count": 99,
   "metadata": {},
   "outputs": [
    {
     "data": {
      "text/plain": [
       "datetime         0\n",
       "season           0\n",
       "holiday          0\n",
       "workingday       0\n",
       "weather          0\n",
       "temp             0\n",
       "atemp            0\n",
       "humidity         0\n",
       "windspeed        0\n",
       "total_booking    0\n",
       "WeekDay          0\n",
       "Day              0\n",
       "Time             0\n",
       "Month            0\n",
       "Year             0\n",
       "dtype: int64"
      ]
     },
     "execution_count": 99,
     "metadata": {},
     "output_type": "execute_result"
    }
   ],
   "source": [
    "outlier_df_test.isnull().sum()"
   ]
  },
  {
   "cell_type": "code",
   "execution_count": 100,
   "metadata": {},
   "outputs": [
    {
     "data": {
      "text/plain": [
       "datetime         0\n",
       "season           0\n",
       "holiday          0\n",
       "workingday       0\n",
       "weather          0\n",
       "temp             0\n",
       "atemp            0\n",
       "humidity         0\n",
       "windspeed        0\n",
       "total_booking    0\n",
       "WeekDay          0\n",
       "Day              0\n",
       "Time             0\n",
       "Month            0\n",
       "Year             0\n",
       "dtype: int64"
      ]
     },
     "execution_count": 100,
     "metadata": {},
     "output_type": "execute_result"
    }
   ],
   "source": [
    "outlier_df.isna().sum()"
   ]
  },
  {
   "cell_type": "code",
   "execution_count": 101,
   "metadata": {},
   "outputs": [
    {
     "data": {
      "text/plain": [
       "datetime         0\n",
       "season           0\n",
       "holiday          0\n",
       "workingday       0\n",
       "weather          0\n",
       "temp             0\n",
       "atemp            0\n",
       "humidity         0\n",
       "windspeed        0\n",
       "total_booking    0\n",
       "WeekDay          0\n",
       "Day              0\n",
       "Time             0\n",
       "Month            0\n",
       "Year             0\n",
       "dtype: int64"
      ]
     },
     "execution_count": 101,
     "metadata": {},
     "output_type": "execute_result"
    }
   ],
   "source": [
    "outlier_df_test.isna().sum()"
   ]
  },
  {
   "cell_type": "markdown",
   "metadata": {},
   "source": [
    "From the above data we can say that there are no null values or Nan values in the dataset"
   ]
  },
  {
   "cell_type": "markdown",
   "metadata": {},
   "source": [
    "## Correlation Analysis"
   ]
  },
  {
   "cell_type": "code",
   "execution_count": 104,
   "metadata": {},
   "outputs": [
    {
     "data": {
      "text/plain": [
       "<matplotlib.axes._subplots.AxesSubplot at 0x134604c0a08>"
      ]
     },
     "execution_count": 104,
     "metadata": {},
     "output_type": "execute_result"
    },
    {
     "data": {
      "image/png": "[encoded data removed]",
      "text/plain": [
       "<Figure size 1440x360 with 2 Axes>"
      ]
     },
     "metadata": {
      "needs_background": "light"
     },
     "output_type": "display_data"
    }
   ],
   "source": [
    "sns.heatmap(outlier_df.corr(),annot = True)"
   ]
  },
  {
   "cell_type": "markdown",
   "metadata": {},
   "source": [
    "From the above heatmap we can see that some of the data like weather, month, hour, season are missed. \n",
    "This is because the data is not labelencoded"
   ]
  },
  {
   "cell_type": "code",
   "execution_count": 105,
   "metadata": {},
   "outputs": [],
   "source": [
    "#labelEncoding and changing the data into integer/float types to have the correlation \n",
    "def weekday(weekday):\n",
    "    weekday_dict = {'Monday':0,'Tuesday':1,'Wednesday':2,'Thursday':3,'Friday':4,'Saturday':5,'Sunday':6}\n",
    "    return weekday_dict[weekday]\n",
    "def month(month):\n",
    "    month_dict = {'January':1,'February':2,'March':3,'April':4,'May':5,'June':6,'July':7,'August':8,'September':9,\n",
    "                  'October':10,'November':11,'December':12}\n",
    "    return month_dict[month]\n",
    "le = LabelEncoder()\n",
    "#For train data\n",
    "outlier_df['Month'] = outlier_df['Month'].apply(lambda x:month(x))\n",
    "outlier_df['WeekDay'] = outlier_df['WeekDay'].apply(lambda x:weekday(x))\n",
    "outlier_df['Hour'] = outlier_df['Time'].apply(lambda x:int(x[:2]))\n",
    "outlier_df['weather'] = le.fit_transform(outlier_df['weather'])\n",
    "outlier_df['season'] = le.fit_transform(outlier_df['season'])\n",
    "\n",
    "#For test data\n",
    "outlier_df_test['Month'] = outlier_df_test['Month'].apply(lambda x:month(x))\n",
    "outlier_df_test['WeekDay'] = outlier_df_test['WeekDay'].apply(lambda x:weekday(x))\n",
    "outlier_df_test['Hour'] = outlier_df_test['Time'].apply(lambda x:int(x[:2]))\n",
    "outlier_df_test['weather'] = le.fit_transform(outlier_df_test['weather'])\n",
    "outlier_df_test['season'] = le.fit_transform(outlier_df_test['season'])"
   ]
  },
  {
   "cell_type": "code",
   "execution_count": 106,
   "metadata": {},
   "outputs": [
    {
     "data": {
      "text/html": [
       "<div>\n",
       "<style scoped>\n",
       "    .dataframe tbody tr th:only-of-type {\n",
       "        vertical-align: middle;\n",
       "    }\n",
       "\n",
       "    .dataframe tbody tr th {\n",
       "        vertical-align: top;\n",
       "    }\n",
       "\n",
       "    .dataframe thead th {\n",
       "        text-align: right;\n",
       "    }\n",
       "</style>\n",
       "<table border=\"1\" class=\"dataframe\">\n",
       "  <thead>\n",
       "    <tr style=\"text-align: right;\">\n",
       "      <th></th>\n",
       "      <th>datetime</th>\n",
       "      <th>season</th>\n",
       "      <th>holiday</th>\n",
       "      <th>workingday</th>\n",
       "      <th>weather</th>\n",
       "      <th>temp</th>\n",
       "      <th>atemp</th>\n",
       "      <th>humidity</th>\n",
       "      <th>windspeed</th>\n",
       "      <th>total_booking</th>\n",
       "      <th>WeekDay</th>\n",
       "      <th>Day</th>\n",
       "      <th>Time</th>\n",
       "      <th>Month</th>\n",
       "      <th>Year</th>\n",
       "      <th>Hour</th>\n",
       "    </tr>\n",
       "  </thead>\n",
       "  <tbody>\n",
       "    <tr>\n",
       "      <th>0</th>\n",
       "      <td>2012-05-02 19:00:00</td>\n",
       "      <td>2</td>\n",
       "      <td>0</td>\n",
       "      <td>1</td>\n",
       "      <td>0</td>\n",
       "      <td>22.14</td>\n",
       "      <td>25.760</td>\n",
       "      <td>77</td>\n",
       "      <td>16.9979</td>\n",
       "      <td>7.958114</td>\n",
       "      <td>2</td>\n",
       "      <td>02</td>\n",
       "      <td>19:00:00</td>\n",
       "      <td>5</td>\n",
       "      <td>2012</td>\n",
       "      <td>19</td>\n",
       "    </tr>\n",
       "    <tr>\n",
       "      <th>1</th>\n",
       "      <td>2012-09-05 04:00:00</td>\n",
       "      <td>0</td>\n",
       "      <td>0</td>\n",
       "      <td>1</td>\n",
       "      <td>0</td>\n",
       "      <td>28.70</td>\n",
       "      <td>33.335</td>\n",
       "      <td>79</td>\n",
       "      <td>19.0012</td>\n",
       "      <td>1.709976</td>\n",
       "      <td>2</td>\n",
       "      <td>05</td>\n",
       "      <td>04:00:00</td>\n",
       "      <td>9</td>\n",
       "      <td>2012</td>\n",
       "      <td>4</td>\n",
       "    </tr>\n",
       "    <tr>\n",
       "      <th>2</th>\n",
       "      <td>2011-01-13 09:00:00</td>\n",
       "      <td>1</td>\n",
       "      <td>0</td>\n",
       "      <td>1</td>\n",
       "      <td>0</td>\n",
       "      <td>5.74</td>\n",
       "      <td>6.060</td>\n",
       "      <td>50</td>\n",
       "      <td>22.0028</td>\n",
       "      <td>5.180101</td>\n",
       "      <td>3</td>\n",
       "      <td>13</td>\n",
       "      <td>09:00:00</td>\n",
       "      <td>1</td>\n",
       "      <td>2011</td>\n",
       "      <td>9</td>\n",
       "    </tr>\n",
       "    <tr>\n",
       "      <th>3</th>\n",
       "      <td>2011-11-18 16:00:00</td>\n",
       "      <td>3</td>\n",
       "      <td>0</td>\n",
       "      <td>1</td>\n",
       "      <td>0</td>\n",
       "      <td>13.94</td>\n",
       "      <td>16.665</td>\n",
       "      <td>29</td>\n",
       "      <td>8.9981</td>\n",
       "      <td>5.934472</td>\n",
       "      <td>4</td>\n",
       "      <td>18</td>\n",
       "      <td>16:00:00</td>\n",
       "      <td>11</td>\n",
       "      <td>2011</td>\n",
       "      <td>16</td>\n",
       "    </tr>\n",
       "    <tr>\n",
       "      <th>4</th>\n",
       "      <td>2011-09-13 13:00:00</td>\n",
       "      <td>0</td>\n",
       "      <td>0</td>\n",
       "      <td>1</td>\n",
       "      <td>0</td>\n",
       "      <td>30.34</td>\n",
       "      <td>33.335</td>\n",
       "      <td>51</td>\n",
       "      <td>19.0012</td>\n",
       "      <td>5.687734</td>\n",
       "      <td>1</td>\n",
       "      <td>13</td>\n",
       "      <td>13:00:00</td>\n",
       "      <td>9</td>\n",
       "      <td>2011</td>\n",
       "      <td>13</td>\n",
       "    </tr>\n",
       "  </tbody>\n",
       "</table>\n",
       "</div>"
      ],
      "text/plain": [
       "             datetime  season  holiday  workingday  weather   temp   atemp  \\\n",
       "0 2012-05-02 19:00:00       2        0           1        0  22.14  25.760   \n",
       "1 2012-09-05 04:00:00       0        0           1        0  28.70  33.335   \n",
       "2 2011-01-13 09:00:00       1        0           1        0   5.74   6.060   \n",
       "3 2011-11-18 16:00:00       3        0           1        0  13.94  16.665   \n",
       "4 2011-09-13 13:00:00       0        0           1        0  30.34  33.335   \n",
       "\n",
       "   humidity  windspeed  total_booking  WeekDay Day      Time  Month  Year  \\\n",
       "0        77    16.9979       7.958114        2  02  19:00:00      5  2012   \n",
       "1        79    19.0012       1.709976        2  05  04:00:00      9  2012   \n",
       "2        50    22.0028       5.180101        3  13  09:00:00      1  2011   \n",
       "3        29     8.9981       5.934472        4  18  16:00:00     11  2011   \n",
       "4        51    19.0012       5.687734        1  13  13:00:00      9  2011   \n",
       "\n",
       "   Hour  \n",
       "0    19  \n",
       "1     4  \n",
       "2     9  \n",
       "3    16  \n",
       "4    13  "
      ]
     },
     "execution_count": 106,
     "metadata": {},
     "output_type": "execute_result"
    }
   ],
   "source": [
    "#Checking the transformed Data\n",
    "outlier_df.head()"
   ]
  },
  {
   "cell_type": "code",
   "execution_count": 107,
   "metadata": {},
   "outputs": [
    {
     "data": {
      "text/html": [
       "<div>\n",
       "<style scoped>\n",
       "    .dataframe tbody tr th:only-of-type {\n",
       "        vertical-align: middle;\n",
       "    }\n",
       "\n",
       "    .dataframe tbody tr th {\n",
       "        vertical-align: top;\n",
       "    }\n",
       "\n",
       "    .dataframe thead th {\n",
       "        text-align: right;\n",
       "    }\n",
       "</style>\n",
       "<table border=\"1\" class=\"dataframe\">\n",
       "  <thead>\n",
       "    <tr style=\"text-align: right;\">\n",
       "      <th></th>\n",
       "      <th>datetime</th>\n",
       "      <th>season</th>\n",
       "      <th>holiday</th>\n",
       "      <th>workingday</th>\n",
       "      <th>weather</th>\n",
       "      <th>temp</th>\n",
       "      <th>atemp</th>\n",
       "      <th>humidity</th>\n",
       "      <th>windspeed</th>\n",
       "      <th>total_booking</th>\n",
       "      <th>WeekDay</th>\n",
       "      <th>Day</th>\n",
       "      <th>Time</th>\n",
       "      <th>Month</th>\n",
       "      <th>Year</th>\n",
       "      <th>Hour</th>\n",
       "    </tr>\n",
       "  </thead>\n",
       "  <tbody>\n",
       "    <tr>\n",
       "      <th>0</th>\n",
       "      <td>2012-05-10 11:00:00</td>\n",
       "      <td>2</td>\n",
       "      <td>0</td>\n",
       "      <td>1</td>\n",
       "      <td>0</td>\n",
       "      <td>21.32</td>\n",
       "      <td>25.000</td>\n",
       "      <td>48</td>\n",
       "      <td>35.0008</td>\n",
       "      <td>6.349604</td>\n",
       "      <td>3</td>\n",
       "      <td>10</td>\n",
       "      <td>11:00:00</td>\n",
       "      <td>5</td>\n",
       "      <td>2012</td>\n",
       "      <td>11</td>\n",
       "    </tr>\n",
       "    <tr>\n",
       "      <th>1</th>\n",
       "      <td>2012-06-09 07:00:00</td>\n",
       "      <td>2</td>\n",
       "      <td>0</td>\n",
       "      <td>0</td>\n",
       "      <td>0</td>\n",
       "      <td>23.78</td>\n",
       "      <td>27.275</td>\n",
       "      <td>64</td>\n",
       "      <td>7.0015</td>\n",
       "      <td>4.431048</td>\n",
       "      <td>5</td>\n",
       "      <td>09</td>\n",
       "      <td>07:00:00</td>\n",
       "      <td>6</td>\n",
       "      <td>2012</td>\n",
       "      <td>7</td>\n",
       "    </tr>\n",
       "    <tr>\n",
       "      <th>2</th>\n",
       "      <td>2011-03-06 20:00:00</td>\n",
       "      <td>1</td>\n",
       "      <td>0</td>\n",
       "      <td>0</td>\n",
       "      <td>1</td>\n",
       "      <td>11.48</td>\n",
       "      <td>12.120</td>\n",
       "      <td>100</td>\n",
       "      <td>27.9993</td>\n",
       "      <td>2.223980</td>\n",
       "      <td>6</td>\n",
       "      <td>06</td>\n",
       "      <td>20:00:00</td>\n",
       "      <td>3</td>\n",
       "      <td>2011</td>\n",
       "      <td>20</td>\n",
       "    </tr>\n",
       "    <tr>\n",
       "      <th>3</th>\n",
       "      <td>2011-10-13 11:00:00</td>\n",
       "      <td>3</td>\n",
       "      <td>0</td>\n",
       "      <td>1</td>\n",
       "      <td>2</td>\n",
       "      <td>25.42</td>\n",
       "      <td>28.790</td>\n",
       "      <td>83</td>\n",
       "      <td>0.0000</td>\n",
       "      <td>4.379519</td>\n",
       "      <td>3</td>\n",
       "      <td>13</td>\n",
       "      <td>11:00:00</td>\n",
       "      <td>10</td>\n",
       "      <td>2011</td>\n",
       "      <td>11</td>\n",
       "    </tr>\n",
       "    <tr>\n",
       "      <th>4</th>\n",
       "      <td>2012-06-02 12:00:00</td>\n",
       "      <td>2</td>\n",
       "      <td>0</td>\n",
       "      <td>0</td>\n",
       "      <td>0</td>\n",
       "      <td>25.42</td>\n",
       "      <td>31.060</td>\n",
       "      <td>43</td>\n",
       "      <td>23.9994</td>\n",
       "      <td>8.741625</td>\n",
       "      <td>5</td>\n",
       "      <td>02</td>\n",
       "      <td>12:00:00</td>\n",
       "      <td>6</td>\n",
       "      <td>2012</td>\n",
       "      <td>12</td>\n",
       "    </tr>\n",
       "  </tbody>\n",
       "</table>\n",
       "</div>"
      ],
      "text/plain": [
       "             datetime  season  holiday  workingday  weather   temp   atemp  \\\n",
       "0 2012-05-10 11:00:00       2        0           1        0  21.32  25.000   \n",
       "1 2012-06-09 07:00:00       2        0           0        0  23.78  27.275   \n",
       "2 2011-03-06 20:00:00       1        0           0        1  11.48  12.120   \n",
       "3 2011-10-13 11:00:00       3        0           1        2  25.42  28.790   \n",
       "4 2012-06-02 12:00:00       2        0           0        0  25.42  31.060   \n",
       "\n",
       "   humidity  windspeed  total_booking  WeekDay Day      Time  Month  Year  \\\n",
       "0        48    35.0008       6.349604        3  10  11:00:00      5  2012   \n",
       "1        64     7.0015       4.431048        5  09  07:00:00      6  2012   \n",
       "2       100    27.9993       2.223980        6  06  20:00:00      3  2011   \n",
       "3        83     0.0000       4.379519        3  13  11:00:00     10  2011   \n",
       "4        43    23.9994       8.741625        5  02  12:00:00      6  2012   \n",
       "\n",
       "   Hour  \n",
       "0    11  \n",
       "1     7  \n",
       "2    20  \n",
       "3    11  \n",
       "4    12  "
      ]
     },
     "execution_count": 107,
     "metadata": {},
     "output_type": "execute_result"
    }
   ],
   "source": [
    "outlier_df_test.head()"
   ]
  },
  {
   "cell_type": "markdown",
   "metadata": {},
   "source": [
    "All the data has been transformed "
   ]
  },
  {
   "cell_type": "code",
   "execution_count": 109,
   "metadata": {},
   "outputs": [
    {
     "data": {
      "text/plain": [
       "<matplotlib.axes._subplots.AxesSubplot at 0x134617e4608>"
      ]
     },
     "execution_count": 109,
     "metadata": {},
     "output_type": "execute_result"
    },
    {
     "data": {
      "image/png": "[encoded data removed]",
      "text/plain": [
       "<Figure size 1440x360 with 2 Axes>"
      ]
     },
     "metadata": {
      "needs_background": "light"
     },
     "output_type": "display_data"
    }
   ],
   "source": [
    "sns.heatmap(outlier_df.corr(),annot = True)"
   ]
  },
  {
   "cell_type": "code",
   "execution_count": 112,
   "metadata": {},
   "outputs": [
    {
     "data": {
      "text/plain": [
       "season           0.002002\n",
       "holiday         -0.001590\n",
       "workingday      -0.000705\n",
       "weather         -0.072640\n",
       "temp             0.403626\n",
       "atemp            0.398889\n",
       "humidity        -0.340372\n",
       "windspeed        0.113318\n",
       "total_booking    1.000000\n",
       "WeekDay          0.010332\n",
       "Month            0.174896\n",
       "Hour             0.532507\n",
       "Name: total_booking, dtype: float64"
      ]
     },
     "execution_count": 112,
     "metadata": {},
     "output_type": "execute_result"
    }
   ],
   "source": [
    "outlier_df.corr()['total_booking']"
   ]
  },
  {
   "cell_type": "markdown",
   "metadata": {},
   "source": [
    "From the above data we can see that The target variable total_booking is highly correlated to Hour, \n",
    "Month, temp, atemp, WeekDay, WindSpeed than other features"
   ]
  },
  {
   "cell_type": "markdown",
   "metadata": {},
   "source": [
    "## Feature Engineering"
   ]
  },
  {
   "cell_type": "markdown",
   "metadata": {},
   "source": [
    "From the above point we can select the features which are highly correlated than others as mentioned"
   ]
  },
  {
   "cell_type": "code",
   "execution_count": 114,
   "metadata": {},
   "outputs": [],
   "source": [
    "#Assigning features to train & test data\n",
    "x_train = outlier_df[['Hour','Month','temp','windspeed','WeekDay']]\n",
    "y_train = outlier_df['total_booking']\n",
    "x_test = outlier_df_test[['Hour','Month','temp','windspeed','WeekDay']]\n",
    "y_test = outlier_df_test['total_booking']\n"
   ]
  },
  {
   "cell_type": "markdown",
   "metadata": {},
   "source": [
    "## Grid Search & Appending the models"
   ]
  },
  {
   "cell_type": "markdown",
   "metadata": {},
   "source": [
    "#### Linear Regression "
   ]
  },
  {
   "cell_type": "code",
   "execution_count": 120,
   "metadata": {},
   "outputs": [
    {
     "name": "stdout",
     "output_type": "stream",
     "text": [
      "R_sqaure for LinearRegression: 0.41186601338935935\n"
     ]
    }
   ],
   "source": [
    "lr = LinearRegression()\n",
    "lr.fit(x_train,y_train)\n",
    "y_lr_pred = lr.predict(x_test)\n",
    "print('R_sqaure for LinearRegression:', r2_score(y_test,y_lr_pred))"
   ]
  },
  {
   "cell_type": "markdown",
   "metadata": {},
   "source": [
    "#### Random Forest"
   ]
  },
  {
   "cell_type": "code",
   "execution_count": 122,
   "metadata": {},
   "outputs": [
    {
     "name": "stdout",
     "output_type": "stream",
     "text": [
      "Best_parameter for RF: {'max_features': 3, 'n_estimators': 100, 'random_state': 8}\n"
     ]
    }
   ],
   "source": [
    "rf = RandomForestRegressor()\n",
    "param = {'n_estimators':[100],'random_state':list(range(11)),'max_features':[1,2,3,4,5]}\n",
    "rf_GS = GridSearchCV(rf,param_grid = param, n_jobs = -1, cv = 5)\n",
    "rf_GS.fit(x_train,y_train)\n",
    "print('Best_parameter for RF:', rf_GS.best_params_)"
   ]
  },
  {
   "cell_type": "code",
   "execution_count": 125,
   "metadata": {},
   "outputs": [
    {
     "name": "stdout",
     "output_type": "stream",
     "text": [
      "R_sqaure for RandomForest: 0.8877651100063391\n"
     ]
    }
   ],
   "source": [
    "y_rf_pred = rf_GS.predict(x_test)\n",
    "print('R_sqaure for RandomForest:', r2_score(y_test,y_rf_pred))"
   ]
  },
  {
   "cell_type": "markdown",
   "metadata": {},
   "source": [
    "#### SVM "
   ]
  },
  {
   "cell_type": "code",
   "execution_count": 130,
   "metadata": {},
   "outputs": [
    {
     "name": "stdout",
     "output_type": "stream",
     "text": [
      "Best_parameter for svm: {'C': 10, 'gamma': 0.1, 'kernel': 'rbf'}\n",
      "R_sqaure for SVM: 0.835561982675489\n"
     ]
    }
   ],
   "source": [
    "svm = SVR(kernel='rbf')\n",
    "param = {'kernel':['rbf'],'gamma':[0.001,0.01,0.1,1], 'C':[0.001,0.01,0.1,1,10]}\n",
    "svm_GS = GridSearchCV(svm,param_grid = param , n_jobs = -1, cv = 5)\n",
    "svm_GS.fit(x_train,y_train)\n",
    "print('Best_parameter for svm:', svm_GS.best_params_)\n",
    "y_svm_pred = svm_GS.predict(x_test)\n",
    "print('R_sqaure for SVM:', r2_score(y_test,y_svm_pred))"
   ]
  },
  {
   "cell_type": "markdown",
   "metadata": {},
   "source": [
    "#### Gradient Boosting Regression"
   ]
  },
  {
   "cell_type": "code",
   "execution_count": 131,
   "metadata": {},
   "outputs": [
    {
     "name": "stdout",
     "output_type": "stream",
     "text": [
      "Best_parameter for GBR: {'learning_rate': 1, 'n_estimators': 200, 'random_state': 6}\n",
      "R_sqaure for GradientBoostingRegressor: 0.835561982675489\n"
     ]
    }
   ],
   "source": [
    "gbr = GradientBoostingRegressor()\n",
    "param = {'n_estimators':[25,50,75,100,125,150,175,200],'random_state':list(range(21)),'learning_rate':[0.01,0.1,1]}\n",
    "gbr_GS = GridSearchCV(gbr,param_grid = param,n_jobs=-1,cv=5)\n",
    "gbr_GS.fit(x_train,y_train)\n",
    "print('Best_parameter for GBR:', gbr_GS.best_params_)\n",
    "y_gbr_pred = gbr_GS.predict(x_test)\n",
    "print('R_sqaure for GradientBoostingRegressor:', r2_score(y_test,y_svm_pred))"
   ]
  },
  {
   "cell_type": "markdown",
   "metadata": {},
   "source": [
    "#### DecisionTree"
   ]
  },
  {
   "cell_type": "code",
   "execution_count": 134,
   "metadata": {},
   "outputs": [
    {
     "name": "stdout",
     "output_type": "stream",
     "text": [
      "Best_parameter for DecisionTree: {'max_features': 4, 'random_state': 16}\n",
      "R_sqaure for DecisionTreeRegressor: 0.7888955830258273\n"
     ]
    }
   ],
   "source": [
    "dt = DecisionTreeRegressor()\n",
    "param = {'max_features':[1,2,3,4,5],'random_state':list(range(20))}\n",
    "dt_GS = GridSearchCV(dt,param_grid = param,n_jobs=-1,cv=5)\n",
    "dt_GS.fit(x_train,y_train)\n",
    "print('Best_parameter for DecisionTree:', dt_GS.best_params_)\n",
    "y_dt_pred = dt_GS.predict(x_test)\n",
    "print('R_sqaure for DecisionTreeRegressor:', r2_score(y_test,y_dt_pred))"
   ]
  },
  {
   "cell_type": "markdown",
   "metadata": {},
   "source": [
    "## Conclusion"
   ]
  },
  {
   "cell_type": "markdown",
   "metadata": {},
   "source": [
    "All the models have been runned on the dataset as mentioned. After hyperparameter tuning these \n",
    "Regression models, RandomForest Regression model is found to perform best due to high r2_score. \n",
    "Also data visualization was done to check the interesting data insights. "
   ]
  }
 ],
 "metadata": {
  "kernelspec": {
   "display_name": "Python 3",
   "language": "python",
   "name": "python3"
  },
  "language_info": {
   "codemirror_mode": {
    "name": "ipython",
    "version": 3
   },
   "file_extension": ".py",
   "mimetype": "text/x-python",
   "name": "python",
   "nbconvert_exporter": "python",
   "pygments_lexer": "ipython3",
   "version": "3.7.6"
  }
 },
 "nbformat": 4,
 "nbformat_minor": 4
}
